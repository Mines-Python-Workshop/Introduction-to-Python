{
 "cells": [
  {
   "cell_type": "code",
   "execution_count": null,
   "id": "46ba7209-ec60-4522-93d5-aa7636c92b67",
   "metadata": {},
   "outputs": [],
   "source": [
    "#Create a simple calculator the asks the user for their name and two numbers that they would like the sum, difference, product, dividend and average value of. Output this information politely using the users name and making it clear which value outputted is which."
   ]
  },
  {
   "cell_type": "code",
   "execution_count": 4,
   "id": "034368c8-c597-43dc-af83-168b54c25c38",
   "metadata": {},
   "outputs": [
    {
     "name": "stdout",
     "output_type": "stream",
     "text": [
      "Hello, welcome to my simple calculator. What is your name?\n"
     ]
    },
    {
     "name": "stdin",
     "output_type": "stream",
     "text": [
      "Name:  Ben\n"
     ]
    },
    {
     "name": "stdout",
     "output_type": "stream",
     "text": [
      "Hello Ben!\n",
      "What is your first number?\n"
     ]
    },
    {
     "name": "stdin",
     "output_type": "stream",
     "text": [
      "First Number:  5\n"
     ]
    },
    {
     "name": "stdout",
     "output_type": "stream",
     "text": [
      "What is your second number?\n"
     ]
    },
    {
     "name": "stdin",
     "output_type": "stream",
     "text": [
      "Second Number:  6\n"
     ]
    },
    {
     "name": "stdout",
     "output_type": "stream",
     "text": [
      "5 + 6 = 11\n",
      "5 - 6 = -1\n",
      "5 * 6 = 30\n",
      "5 / 6 = 0.8333333333333334\n",
      "The average of 5 and 6 is 5.5\n"
     ]
    }
   ],
   "source": [
    "print(\"Hello, welcome to my simple calculator. What is your name?\")\n",
    "Name = input(\"Name: \")\n",
    "print(\"Hello Ben!\")\n",
    "print(\"What is your first number?\")\n",
    "First_Number = int(input(\"First Number: \"))\n",
    "print(\"What is your second number?\")\n",
    "Second_Number = int(input(\"Second Number: \"))\n",
    "print(First_Number , \"+\" , Second_Number , \"=\" , First_Number + Second_Number)\n",
    "print(First_Number , \"-\" , Second_Number , \"=\" , First_Number - Second_Number)\n",
    "print(First_Number , \"*\" , Second_Number , \"=\" , First_Number * Second_Number)\n",
    "print(First_Number , \"/\" , Second_Number , \"=\" , First_Number / Second_Number)\n",
    "print(\"The average of\", First_Number , \"and\" , Second_Number , \"is\" , (First_Number + Second_Number) / 2)"
   ]
  },
  {
   "cell_type": "code",
   "execution_count": null,
   "id": "0b335308-f604-410d-a7c1-884ff0f716de",
   "metadata": {},
   "outputs": [],
   "source": []
  }
 ],
 "metadata": {
  "kernelspec": {
   "display_name": "Python 3 (ipykernel)",
   "language": "python",
   "name": "python3"
  },
  "language_info": {
   "codemirror_mode": {
    "name": "ipython",
    "version": 3
   },
   "file_extension": ".py",
   "mimetype": "text/x-python",
   "name": "python",
   "nbconvert_exporter": "python",
   "pygments_lexer": "ipython3",
   "version": "3.10.11"
  }
 },
 "nbformat": 4,
 "nbformat_minor": 5
}
