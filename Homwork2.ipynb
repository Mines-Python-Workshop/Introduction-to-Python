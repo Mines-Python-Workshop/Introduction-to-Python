{
 "cells": [
  {
   "cell_type": "code",
   "execution_count": 3,
   "id": "fb452df4-4fe7-452d-a5de-316d5d660632",
   "metadata": {},
   "outputs": [],
   "source": [
    "# 1.)Write a program that generates a list of numbers from 1 to 100 by intervals of .5"
   ]
  },
  {
   "cell_type": "code",
   "execution_count": null,
   "id": "7027cf84-d150-4ed2-9fde-c64cb0fe1510",
   "metadata": {},
   "outputs": [],
   "source": [
    "# 2.) Define a dictionary where each key is a persons name (4 Keys) and the value is a list containing there favorite color, age , and height\n",
    "# choose one of the people and print a message indexing that information."
   ]
  },
  {
   "cell_type": "code",
   "execution_count": null,
   "id": "e4fbf113-4b8c-4376-8432-c111bf681dc2",
   "metadata": {},
   "outputs": [],
   "source": [
    "# from problem 2.) create a list of the keys and then have a message print out for each person"
   ]
  },
  {
   "cell_type": "code",
   "execution_count": 2,
   "id": "b08f4438-e48a-4a00-8027-3ae0f80e5c31",
   "metadata": {
    "scrolled": true
   },
   "outputs": [],
   "source": [
    "# Below is a list of 200 randomly generated intigers anywhere between 0 and 5000 in no particular order.\n",
    "# Write code that makes a new list called mult_3 that only contains the multiples of 3 that are also in list\n",
    "\n",
    "list = [1145, 532, 3035, 4306, 373, 1541, 4064, 2103, 2246, 4019, 3710, 4249, 634, 3254, 4485, 729, 4416, 1645, 1410, 4539, 3071, 3309, 1900, 4970, 4040, 2034, 1162, 4218, 585, 3518, 3890, 1239, 3920, 4858, 1937, 4530, 771, 4371, 1362, 1380, 4335, 1993, 4974, 2468, 566, 3510, 4419, 3454, 1699, 2485, 4070, 4073, 4166, 3569, 3091, 626, 2630, 799, 778, 4001, 2687, 722, 351, 4615, 2428, 4960, 768, 4560, 2011, 2989, 125, 4219, 910, 2114, 3630, 319, 4404, 582, 1423, 3544, 1251, 71, 3283, 2683, 641, 1998, 3785, 1848, 3756, 629, 135, 503, 4707, 2284, 1458, 1698, 1979, 4370, 1853, 2335, 1311, 308, 1851, 328, 391, 1474, 4788, 2858, 1382, 2255, 47, 4712, 3812, 756, 2624, 4217, 3125, 3324, 4566, 1203, 4490, 1803, 156, 2478, 3551, 705, 2255, 1655, 4545, 4668, 753, 4043, 884, 2536, 192, 2615, 161, 479, 3488, 539, 956, 1962, 1466, 1771, 3576, 4762, 3947, 3043, 2537, 2525, 521, 2454, 2965, 4106, 3793, 3097, 2090, 4669, 4578, 2012, 4190, 3387, 3501, 1727, 3000, 1988, 3314, 2138, 4352, 4495, 4224, 4842, 3284, 2559, 1146, 3297, 2721, 507, 1231, 2725, 1450, 1221, 2132, 657, 1894, 3329, 3198, 1866, 2300, 4272, 278, 3680, 2657, 1818, 3559, 4051, 4652, 1564, 197, 182]"
   ]
  },
  {
   "cell_type": "code",
   "execution_count": null,
   "id": "c0a49ebe-9e30-489c-9c67-ab996cc23601",
   "metadata": {},
   "outputs": [],
   "source": [
    "# Write something you do every day that you would like to automate with a loop. It's okay if you dont know exactly how you would write it. This is just a good exercise.\n"
   ]
  }
 ],
 "metadata": {
  "kernelspec": {
   "display_name": "Python 3 (ipykernel)",
   "language": "python",
   "name": "python3"
  },
  "language_info": {
   "codemirror_mode": {
    "name": "ipython",
    "version": 3
   },
   "file_extension": ".py",
   "mimetype": "text/x-python",
   "name": "python",
   "nbconvert_exporter": "python",
   "pygments_lexer": "ipython3",
   "version": "3.10.11"
  }
 },
 "nbformat": 4,
 "nbformat_minor": 5
}
