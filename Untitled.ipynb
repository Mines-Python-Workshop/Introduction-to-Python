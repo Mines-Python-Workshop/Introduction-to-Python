{
 "cells": [
  {
   "cell_type": "code",
   "execution_count": 8,
   "id": "90811783-9c60-4767-a0d2-0b36cf2f010f",
   "metadata": {},
   "outputs": [
    {
     "name": "stdout",
     "output_type": "stream",
     "text": [
      "Parrish\n"
     ]
    }
   ],
   "source": [
    "Names = [\"Ben\", \"Parrish\" , \"Garrett\"]\n",
    "print(Names[1])"
   ]
  },
  {
   "cell_type": "code",
   "execution_count": 3,
   "id": "e08c712e-cdef-409b-997b-cfa795d0be08",
   "metadata": {},
   "outputs": [
    {
     "name": "stdout",
     "output_type": "stream",
     "text": [
      "['Ben', 'Parrish', 'Garrett', 'Anna', 'Nicole']\n"
     ]
    }
   ],
   "source": [
    "Names = [\"Ben\", \"Parrish\" , \"Garrett\", \"Anna\"]\n",
    "\n",
    "Names.append(\"Nicole\")\n",
    "print(Names)"
   ]
  },
  {
   "cell_type": "code",
   "execution_count": 14,
   "id": "3a5c41aa-19c7-4dbe-afd7-5db0664da107",
   "metadata": {},
   "outputs": [],
   "source": [
    "Names.insert(1 , 3.14 )"
   ]
  },
  {
   "cell_type": "code",
   "execution_count": 15,
   "id": "e3ef0472-90ce-4b1c-9209-a34301fc9bbc",
   "metadata": {},
   "outputs": [
    {
     "name": "stdout",
     "output_type": "stream",
     "text": [
      "['Ben', 3.14, 3.14, 'Parrish', 'Garrett']\n"
     ]
    }
   ],
   "source": [
    "print(Names)"
   ]
  },
  {
   "cell_type": "code",
   "execution_count": 16,
   "id": "23b7016a-e2da-4ee2-a1fe-07b871deaafc",
   "metadata": {},
   "outputs": [
    {
     "name": "stdout",
     "output_type": "stream",
     "text": [
      "['Ben', 3.14, 'Parrish', 'Garrett']\n"
     ]
    }
   ],
   "source": [
    "Names.remove( 3.14)\n",
    "print(Names)"
   ]
  },
  {
   "cell_type": "code",
   "execution_count": 18,
   "id": "2fd4cce6-685b-45a7-994e-08f29543d867",
   "metadata": {},
   "outputs": [
    {
     "name": "stdout",
     "output_type": "stream",
     "text": [
      "Garrett\n"
     ]
    }
   ],
   "source": [
    "print(Names.pop(3))"
   ]
  },
  {
   "cell_type": "code",
   "execution_count": 20,
   "id": "5b595824-7755-4b2e-9333-8651f1b795e7",
   "metadata": {},
   "outputs": [
    {
     "name": "stdout",
     "output_type": "stream",
     "text": [
      "25\n"
     ]
    }
   ],
   "source": [
    "People = [[\"Ben\",23,\"Blue\"],\n",
    "          [\"Parrish\",23,\"Green\"],\n",
    "          [\"Garrett\",25,\"Red\"]]\n",
    "print(People[2][1])"
   ]
  },
  {
   "cell_type": "code",
   "execution_count": 26,
   "id": "e581b3ec-fcd2-4c91-959a-906ebad772f6",
   "metadata": {},
   "outputs": [
    {
     "name": "stdout",
     "output_type": "stream",
     "text": [
      "3ft\n",
      "dict_keys(['Phone Number', 'Jump', 'Lift'])\n"
     ]
    }
   ],
   "source": [
    "Info = {\"Phone Number\" : \"(317)447-5094\" , \"Jump\": \"3ft\" , \"Lift\": \"135\"}\n",
    "\n",
    "print(Info[\"Jump\"])\n",
    "\n",
    "print(Info.keys())"
   ]
  },
  {
   "cell_type": "code",
   "execution_count": 28,
   "id": "a7fc7879-2c22-4b08-b409-784fb90a169a",
   "metadata": {},
   "outputs": [
    {
     "name": "stdout",
     "output_type": "stream",
     "text": [
      "1\n",
      "2\n",
      "3\n",
      "4\n",
      "5\n",
      "6\n"
     ]
    }
   ],
   "source": [
    "for num in range(6):\n",
    "    print(num+1)"
   ]
  },
  {
   "cell_type": "code",
   "execution_count": 29,
   "id": "6e93f0af-ae04-4f9d-9f00-9b7fa78315cd",
   "metadata": {},
   "outputs": [
    {
     "name": "stdout",
     "output_type": "stream",
     "text": [
      "Ben\n",
      "3.14\n",
      "Parrish\n"
     ]
    }
   ],
   "source": [
    "for num in Names:\n",
    "    print(num)"
   ]
  },
  {
   "cell_type": "code",
   "execution_count": 30,
   "id": "2e21cd57-7301-4d84-81af-255eadb7cbf8",
   "metadata": {},
   "outputs": [],
   "source": [
    "nums = []\n",
    "for i in range(100):\n",
    "    nums.append(i)\n",
    "    "
   ]
  },
  {
   "cell_type": "code",
   "execution_count": 31,
   "id": "be76e531-5b19-426b-961b-856db4f5d90c",
   "metadata": {},
   "outputs": [
    {
     "name": "stdout",
     "output_type": "stream",
     "text": [
      "[0, 1, 2, 3, 4, 5, 6, 7, 8, 9, 10, 11, 12, 13, 14, 15, 16, 17, 18, 19, 20, 21, 22, 23, 24, 25, 26, 27, 28, 29, 30, 31, 32, 33, 34, 35, 36, 37, 38, 39, 40, 41, 42, 43, 44, 45, 46, 47, 48, 49, 50, 51, 52, 53, 54, 55, 56, 57, 58, 59, 60, 61, 62, 63, 64, 65, 66, 67, 68, 69, 70, 71, 72, 73, 74, 75, 76, 77, 78, 79, 80, 81, 82, 83, 84, 85, 86, 87, 88, 89, 90, 91, 92, 93, 94, 95, 96, 97, 98, 99]\n"
     ]
    }
   ],
   "source": [
    "print(nums)"
   ]
  },
  {
   "cell_type": "code",
   "execution_count": 1,
   "id": "3ba67996-4aa8-476e-a8f2-fcaf1ac69054",
   "metadata": {},
   "outputs": [
    {
     "name": "stdout",
     "output_type": "stream",
     "text": [
      "Good Morning Sal.\n"
     ]
    }
   ],
   "source": [
    "name = \"Sal\"\n",
    "\n",
    "\n",
    "print(\"Good Morning \" + name + \".\")"
   ]
  },
  {
   "cell_type": "code",
   "execution_count": null,
   "id": "ec461d33-d29c-475a-b6e0-f40e1b749fb4",
   "metadata": {},
   "outputs": [],
   "source": []
  },
  {
   "cell_type": "code",
   "execution_count": 2,
   "id": "6114830e-0ae9-4a0e-ae34-8cc21ad2cac7",
   "metadata": {},
   "outputs": [
    {
     "name": "stdout",
     "output_type": "stream",
     "text": [
      "Good MorningSal\n"
     ]
    }
   ],
   "source": [
    "name = \"Sal\"\n",
    "Greeting = \"Good Morning \"\n",
    "\n",
    "if name != \"Sal\":\n",
    "    Greeting =  \n",
    "\n",
    "print(Greeting + name)"
   ]
  },
  {
   "cell_type": "code",
   "execution_count": null,
   "id": "a4ad3f80-be96-4f8b-a27d-6dddb0b1a5e9",
   "metadata": {},
   "outputs": [],
   "source": []
  }
 ],
 "metadata": {
  "kernelspec": {
   "display_name": "Python 3 (ipykernel)",
   "language": "python",
   "name": "python3"
  },
  "language_info": {
   "codemirror_mode": {
    "name": "ipython",
    "version": 3
   },
   "file_extension": ".py",
   "mimetype": "text/x-python",
   "name": "python",
   "nbconvert_exporter": "python",
   "pygments_lexer": "ipython3",
   "version": "3.10.11"
  }
 },
 "nbformat": 4,
 "nbformat_minor": 5
}
