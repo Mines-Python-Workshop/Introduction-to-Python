{
 "cells": [
  {
   "cell_type": "code",
   "execution_count": null,
   "id": "05029baa-8c6b-4f7f-aee1-c2c57e6f5b95",
   "metadata": {},
   "outputs": [],
   "source": [
    "# 1.) Write a program that asks for the side lengths of a triangle and then gives the\n",
    "# value of the hypotenuse. HINT: a^2 + b^ = c^2"
   ]
  },
  {
   "cell_type": "code",
   "execution_count": 2,
   "id": "ebff9e4f-730e-4281-9037-d7064cb9bf7f",
   "metadata": {},
   "outputs": [],
   "source": [
    "# 2.) That can calculate the solution of a quadratic formula. You can look of the quadratic formula."
   ]
  },
  {
   "cell_type": "code",
   "execution_count": null,
   "id": "0d0e91f7-42b7-47f2-8744-b54962d8f0b1",
   "metadata": {},
   "outputs": [],
   "source": [
    "# 3.) Below is a variable which holds the first 30 digits of pi.\n",
    "# WITHOUT EDITING THE VARIABLE output pi rounded to the nearest 5,10, and 15 digits using one print statement\n",
    "# and with each output being on a seperate line.\n",
    "\n",
    "pi = 3.14159265358979323846264338327"
   ]
  },
  {
   "cell_type": "code",
   "execution_count": null,
   "id": "2952ef81-bdb8-4461-8b89-95a8afb49a35",
   "metadata": {},
   "outputs": [],
   "source": [
    "# 4.) The program below is meant to leave a nice message for Josh, but there are a few things wrong.\n",
    "# Correct it so the message is correctly displayed.\n",
    "\n",
    "Name = Josh\n",
    "age =  30\n",
    "Favorite Color = \"blue\"\n",
    "\n",
    "print(\"Hello \" + name + \". Happy birthday! \" + \"I can't believe you are \" + age + \".\" , \"I remember when you told me your favorite color is \" + Favorite_Color, \".\" , sep=\"meow\",end=\"I hate you Josh!\")"
   ]
  },
  {
   "cell_type": "code",
   "execution_count": 2,
   "id": "785f1f19-ba00-44d7-ac87-53a4b06b51e4",
   "metadata": {},
   "outputs": [
    {
     "name": "stdout",
     "output_type": "stream",
     "text": [
      "3 Sheep 4 Sheep 5 Sheep 6 Sheep 7 Sheep 8 Sheep 9 Sheep 10 Sheep 11 Sheep 12 Sheep 13 Sheep 14 Sheep 15 Sheep 16 Sheep 17 Sheep 18 Sheep 19 Sheep 20 Sheep 21 Sheep 22 Sheep 23 Sheep 24 Sheep 25 Sheep 26 Sheep 27 Sheep \n"
     ]
    }
   ],
   "source": [
    "# Below is a print statement that contains intigers. Make it so the output is counting sheep.\n",
    "# i.e. 3 sheep 4 sheep 5 sheep...\n",
    "print( 3 , 4 , 5 , 6 , 7 , 8 , 9 , 10 , 11 , 12 , 13 , 14 , 15 , 16 , 17 , 18 , 19 , 20 , 21 , 22 , 23 , 24 , 25 , 26 , 27 , sep = \" Sheep \", end = \" Sheep \\n\")"
   ]
  },
  {
   "cell_type": "code",
   "execution_count": null,
   "id": "697e0e39-fa90-4470-961d-8c6323eaa54e",
   "metadata": {},
   "outputs": [],
   "source": []
  }
 ],
 "metadata": {
  "kernelspec": {
   "display_name": "Python 3 (ipykernel)",
   "language": "python",
   "name": "python3"
  },
  "language_info": {
   "codemirror_mode": {
    "name": "ipython",
    "version": 3
   },
   "file_extension": ".py",
   "mimetype": "text/x-python",
   "name": "python",
   "nbconvert_exporter": "python",
   "pygments_lexer": "ipython3",
   "version": "3.10.11"
  }
 },
 "nbformat": 4,
 "nbformat_minor": 5
}
